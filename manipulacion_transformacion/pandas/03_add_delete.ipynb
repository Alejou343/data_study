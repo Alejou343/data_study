{
 "cells": [
  {
   "cell_type": "code",
   "execution_count": null,
   "metadata": {},
   "outputs": [],
   "source": [
    "import pandas as pd\n",
    "import numpy as np"
   ]
  },
  {
   "cell_type": "code",
   "execution_count": null,
   "metadata": {},
   "outputs": [],
   "source": [
    "# Read csv\n",
    "df_books = pd.read_csv('./files/bestsellers.csv')\n",
    "df_books.head(2)            # --> This method returns header and two firsts rows of all"
   ]
  },
  {
   "cell_type": "code",
   "execution_count": null,
   "metadata": {},
   "outputs": [],
   "source": [
    "# Delete Columns axis (0 = Rows, 1 = Columns)\n",
    "df_books.drop('Genre', axis=1).head(2)          # --> This doesn't delete column \"Genre\" of dataframe only at output\n",
    "df_books.drop('Genre', axis=1, inplace=True)    # --> This delete column \"Genre\" from dataframe\n",
    "df_books = df_books.drop('Year', axis=1)        # --> This is another way to delete a column from dataframe (Re asssign the variable)"
   ]
  },
  {
   "cell_type": "code",
   "execution_count": null,
   "metadata": {},
   "outputs": [],
   "source": [
    "del df_books['Price']                           # --> Another way using python syntax"
   ]
  },
  {
   "cell_type": "code",
   "execution_count": null,
   "metadata": {},
   "outputs": [],
   "source": [
    "df_books.head(2)   "
   ]
  },
  {
   "cell_type": "code",
   "execution_count": null,
   "metadata": {},
   "outputs": [],
   "source": [
    "# Delete Rows using index of row\n",
    "df_books.drop(0, axis=0).head(2)                    # --> Delete from output\n",
    "# df_books.drop(0, axis=0, inplace=True).head(2)    # --> Delete from dataframe\n",
    "df_books = df_books.drop(0, axis=0)                 # --> Another way to delete from dataframe (Re assign the variable)"
   ]
  },
  {
   "cell_type": "code",
   "execution_count": null,
   "metadata": {},
   "outputs": [],
   "source": [
    "# Logical syntax to delete several rows\n",
    "df_books.drop([2,3,4], axis=0)                # --> Delete the rows with indexes 2, 3 and 4\n",
    "df_books.drop(range(1,20), axis=0)            # --> Delete the rows with indexes between 1 to 20"
   ]
  },
  {
   "cell_type": "code",
   "execution_count": null,
   "metadata": {},
   "outputs": [],
   "source": [
    "# Add Columns\n",
    "df_books['Score'] = df_books['User Rating'] * df_books['Reviews']\n",
    "df_books \n"
   ]
  },
  {
   "cell_type": "code",
   "execution_count": null,
   "metadata": {},
   "outputs": [],
   "source": [
    "# Save all indexes of df_books in a array of numpy\n",
    "data = np.arange(0, df_books.shape[0])      # --> Create a numpy array with all rows of the dataframe\n",
    "df_books['Range'] = np.flip(data)           # --> Create a Column called 'Range' and assign values op numpy's array reversed with flip's function\n",
    "df_books"
   ]
  },
  {
   "cell_type": "code",
   "execution_count": null,
   "metadata": {},
   "outputs": [],
   "source": [
    "# Add Rows\n",
    "df_1 = pd.concat([df_books, df_books])\n",
    "df_1"
   ]
  }
 ],
 "metadata": {
  "kernelspec": {
   "display_name": "base",
   "language": "python",
   "name": "python3"
  },
  "language_info": {
   "codemirror_mode": {
    "name": "ipython",
    "version": 3
   },
   "file_extension": ".py",
   "mimetype": "text/x-python",
   "name": "python",
   "nbconvert_exporter": "python",
   "pygments_lexer": "ipython3",
   "version": "3.11.5"
  }
 },
 "nbformat": 4,
 "nbformat_minor": 2
}
