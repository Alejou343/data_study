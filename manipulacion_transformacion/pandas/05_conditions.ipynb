{
 "cells": [
  {
   "cell_type": "code",
   "execution_count": null,
   "metadata": {},
   "outputs": [],
   "source": [
    "import pandas as pd"
   ]
  },
  {
   "cell_type": "code",
   "execution_count": null,
   "metadata": {},
   "outputs": [],
   "source": [
    "df_books = pd.read_csv('./files/bestsellers.csv')\n",
    "df_books.head(2)"
   ]
  },
  {
   "cell_type": "code",
   "execution_count": null,
   "metadata": {},
   "outputs": [],
   "source": [
    "# Condition to filter rows that has a year upper than 2016\n",
    "since_16 = df_books['Year'] > 2016\n",
    "\n",
    "# Condition to filter rows that has a Genre == 'Fiction'\n",
    "genre_fiction = df_books['Genre'] == 'Fiction'\n",
    "\n",
    "df_books[~since_16]                                                     # --> ~ Is used to negate a condition   (400)\n",
    "df_books[(df_books['Reviews'] > 10000) & (df_books['Year'] < 2016)]     # --> Two conditions to filter information (118) \n",
    "df_books[(~since_16) & (~genre_fiction)]                                  # --> Two conditions to filter information with another sintax (225) "
   ]
  }
 ],
 "metadata": {
  "kernelspec": {
   "display_name": "base",
   "language": "python",
   "name": "python3"
  },
  "language_info": {
   "codemirror_mode": {
    "name": "ipython",
    "version": 3
   },
   "file_extension": ".py",
   "mimetype": "text/x-python",
   "name": "python",
   "nbconvert_exporter": "python",
   "pygments_lexer": "ipython3",
   "version": "3.11.5"
  }
 },
 "nbformat": 4,
 "nbformat_minor": 2
}
