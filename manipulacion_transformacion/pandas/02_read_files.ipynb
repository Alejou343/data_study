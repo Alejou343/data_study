{
 "cells": [
  {
   "cell_type": "code",
   "execution_count": null,
   "metadata": {},
   "outputs": [],
   "source": [
    "import pandas as pd"
   ]
  },
  {
   "cell_type": "code",
   "execution_count": null,
   "metadata": {},
   "outputs": [],
   "source": [
    "# Create a dataframe using a csv file\n",
    "data_csv = pd.read_csv('./files/bestsellers.csv', \n",
    "            sep=\",\",\n",
    "            header=0, \n",
    "            # names= [\"Nameee\", \"Author\", \"User\", \"Rating\", \"Reviews\", \"Price\", \"Year\", \"Genre\"]\n",
    "            )\n",
    "data_csv"
   ]
  },
  {
   "cell_type": "code",
   "execution_count": null,
   "metadata": {},
   "outputs": [],
   "source": [
    "# Create a dataframe using a json file\n",
    "data_json = pd.read_json('./files/HPCaracters.json', \n",
    "                        #  typ='Series'\n",
    "                         )\n",
    "data_json"
   ]
  },
  {
   "cell_type": "code",
   "execution_count": null,
   "metadata": {},
   "outputs": [],
   "source": [
    "# Filter by rows (Slicing) --> data_frame[start:end:step]\n",
    "data_csv[0:4]\n",
    "data_json[4:8]"
   ]
  },
  {
   "cell_type": "code",
   "execution_count": null,
   "metadata": {},
   "outputs": [],
   "source": [
    "# Filter by columns \n",
    "data_csv[['Name', 'Author']]\n",
    "data_json[['Name', 'Species/Race']]"
   ]
  },
  {
   "cell_type": "code",
   "execution_count": null,
   "metadata": {},
   "outputs": [],
   "source": [
    "# Loc\n",
    "\n",
    "data_csv.loc[0:4, [\"Name\", \"Author\"]]           \n",
    "data_json.loc[4:8, [\"Name\", \"Species/Race\"]]            # --> With loc we can filter by rows and columns at the same time\n",
    "\n",
    "[\"Name: \", \"Species/Race: \"] + data_json.loc[0:4, [\"Name\", \"Species/Race\"]]    # --> Now we apply the same operation to all filtered values\n",
    "data_csv.loc[4:8, [\"User Rating\"]] == 4.7"
   ]
  },
  {
   "cell_type": "code",
   "execution_count": 43,
   "metadata": {},
   "outputs": [
    {
     "data": {
      "text/plain": [
       "'Male'"
      ]
     },
     "execution_count": 43,
     "metadata": {},
     "output_type": "execute_result"
    }
   ],
   "source": [
    "# Iloc\n",
    "\n",
    "# Slicing\n",
    "data_csv.iloc[0:100:2, ::2]           # --> With iloc we can filter by rows and columns at the same time and the same syntax (Indexes)\n",
    "data_json.iloc[0:400:5, ::7]           # --> With iloc we can filter by rows and columns at the same time and the same syntax (Indexes)\n",
    "\n",
    "# Indexing\n",
    "data_csv.iloc[1,4]                  # --> Indexing of row with index (1) and column with the index (4)\n",
    "data_json.iloc[4,3]                  # --> Indexing of row with index (1) and column with the index (4)\n"
   ]
  }
 ],
 "metadata": {
  "kernelspec": {
   "display_name": "base",
   "language": "python",
   "name": "python3"
  },
  "language_info": {
   "codemirror_mode": {
    "name": "ipython",
    "version": 3
   },
   "file_extension": ".py",
   "mimetype": "text/x-python",
   "name": "python",
   "nbconvert_exporter": "python",
   "pygments_lexer": "ipython3",
   "version": "3.11.5"
  }
 },
 "nbformat": 4,
 "nbformat_minor": 2
}
