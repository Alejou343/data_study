{
 "cells": [
  {
   "cell_type": "code",
   "execution_count": 1,
   "metadata": {},
   "outputs": [],
   "source": [
    "import numpy as np"
   ]
  },
  {
   "cell_type": "code",
   "execution_count": 2,
   "metadata": {},
   "outputs": [
    {
     "data": {
      "text/plain": [
       "array([16, 12,  1, 14,  7, 10, 19, 18, 13,  6])"
      ]
     },
     "execution_count": 2,
     "metadata": {},
     "output_type": "execute_result"
    }
   ],
   "source": [
    "# Create random vector with 10 integer values between 1 and 20\n",
    "arr = np.random.randint(1,20,10)\n",
    "arr"
   ]
  },
  {
   "cell_type": "code",
   "execution_count": 3,
   "metadata": {},
   "outputs": [
    {
     "data": {
      "text/plain": [
       "array([[16, 12,  1, 14,  7],\n",
       "       [10, 19, 18, 13,  6]])"
      ]
     },
     "execution_count": 3,
     "metadata": {},
     "output_type": "execute_result"
    }
   ],
   "source": [
    "# Reshape vector to transform into a matrix\n",
    "matriz = np.reshape(arr, (2,5))\n",
    "matriz"
   ]
  },
  {
   "cell_type": "code",
   "execution_count": 4,
   "metadata": {},
   "outputs": [
    {
     "data": {
      "text/plain": [
       "array([10, 12,  1, 13,  6])"
      ]
     },
     "execution_count": 4,
     "metadata": {},
     "output_type": "execute_result"
    }
   ],
   "source": [
    "# Max value\n",
    "arr.max()\n",
    "matriz.max(1)                # --> If don't specificate return max value, if the value is 0 return max value by column and if the values is 1 return max value by row\n",
    "\n",
    "# Min value\n",
    "arr.min()\n",
    "matriz.min(0)                # --> If don't specificate return min value, if the value is 0 return min value by column and if the values is 1 return min value by row\n"
   ]
  },
  {
   "cell_type": "code",
   "execution_count": 5,
   "metadata": {},
   "outputs": [
    {
     "data": {
      "text/plain": [
       "array([1, 0, 0, 1, 1])"
      ]
     },
     "execution_count": 5,
     "metadata": {},
     "output_type": "execute_result"
    }
   ],
   "source": [
    "# Indexes\n",
    "\n",
    "arr.argmax()\n",
    "matriz.argmax(1)             # --> If don't specificate return index of max value, if the value is 0 return index of max value by column and if the values is 1 return index of max value by row\n",
    "\n",
    "arr.argmin()\n",
    "matriz.argmin(0)              # --> If don't specificate return index of min value, if the value is 0 return index of min value by column and if the values is 1 return index of min value by row"
   ]
  },
  {
   "cell_type": "code",
   "execution_count": 6,
   "metadata": {},
   "outputs": [
    {
     "data": {
      "text/plain": [
       "array([15, 13])"
      ]
     },
     "execution_count": 6,
     "metadata": {},
     "output_type": "execute_result"
    }
   ],
   "source": [
    "# Difference between upper and lower value (Peak to Peak)\n",
    "\n",
    "arr.ptp()\n",
    "matriz.ptp(1)               # --> If don't specificate the number return the difference beween max value and min value, 0 return by column and 1 return by row"
   ]
  },
  {
   "cell_type": "code",
   "execution_count": 7,
   "metadata": {},
   "outputs": [
    {
     "data": {
      "text/plain": [
       "12.5"
      ]
     },
     "execution_count": 7,
     "metadata": {},
     "output_type": "execute_result"
    }
   ],
   "source": [
    "# Percentile --> Indicate a key value in total values associated by percentage\n",
    "\n",
    "per_fifty = np.percentile(arr, 50)\n",
    "per_fifty"
   ]
  },
  {
   "cell_type": "code",
   "execution_count": 8,
   "metadata": {},
   "outputs": [
    {
     "data": {
      "text/plain": [
       "array([[ 1,  6,  7, 10, 12],\n",
       "       [13, 14, 16, 18, 19]])"
      ]
     },
     "execution_count": 8,
     "metadata": {},
     "output_type": "execute_result"
    }
   ],
   "source": [
    "# Sort to ordenate an array by parameters\n",
    "\n",
    "arr.sort()\n",
    "arr\n",
    "\n",
    "matriz.sort()\n",
    "matriz"
   ]
  },
  {
   "cell_type": "code",
   "execution_count": 9,
   "metadata": {},
   "outputs": [
    {
     "data": {
      "text/plain": [
       "array([ 7. , 10. , 11.5, 14. , 15.5])"
      ]
     },
     "execution_count": 9,
     "metadata": {},
     "output_type": "execute_result"
    }
   ],
   "source": [
    "# Median to return average value from two continuos values in the middle of an array\n",
    "\n",
    "np.median(matriz, 0)            # --> 0 by columns 1 by rows"
   ]
  },
  {
   "cell_type": "code",
   "execution_count": 10,
   "metadata": {},
   "outputs": [
    {
     "data": {
      "text/plain": [
       "array([6. , 4. , 4.5, 4. , 3.5])"
      ]
     },
     "execution_count": 10,
     "metadata": {},
     "output_type": "execute_result"
    }
   ],
   "source": [
    "# Standar deviation to indicate the dispersion about the values\n",
    "\n",
    "np.std(arr)\n",
    "np.std(matriz,0)                # --> 0 by columns 1 by rows"
   ]
  },
  {
   "cell_type": "code",
   "execution_count": 11,
   "metadata": {},
   "outputs": [
    {
     "data": {
      "text/plain": [
       "29.040000000000003"
      ]
     },
     "execution_count": 11,
     "metadata": {},
     "output_type": "execute_result"
    }
   ],
   "source": [
    "# Varianza is the square of Standar deviation \n",
    "\n",
    "varianza = np.std(arr) ** 2         \n",
    "np.var(arr) \n",
    "np.var(matriz)\n"
   ]
  },
  {
   "cell_type": "code",
   "execution_count": 12,
   "metadata": {},
   "outputs": [
    {
     "data": {
      "text/plain": [
       "array([ 7. , 10. , 11.5, 14. , 15.5])"
      ]
     },
     "execution_count": 12,
     "metadata": {},
     "output_type": "execute_result"
    }
   ],
   "source": [
    "# Average\n",
    "\n",
    "np.mean(arr)\n",
    "np.mean(matriz,0)               # --> 0 by columns 1 by rows"
   ]
  },
  {
   "cell_type": "code",
   "execution_count": 13,
   "metadata": {},
   "outputs": [
    {
     "name": "stdout",
     "output_type": "stream",
     "text": [
      "(2, 2)\n",
      "(2,)\n"
     ]
    },
    {
     "data": {
      "text/plain": [
       "array([[5, 6],\n",
       "       [1, 2],\n",
       "       [1, 2]])"
      ]
     },
     "execution_count": 13,
     "metadata": {},
     "output_type": "execute_result"
    }
   ],
   "source": [
    "# Concatenate\n",
    "\n",
    "a = np.array([[1,2], [1,2]])\n",
    "b = np.array([5,6])\n",
    "\n",
    "print(np.shape(a))\n",
    "print(np.shape(b))\n",
    "\n",
    "b = np.expand_dims(b, axis=1)               # --> To increase one dimension of an array\n",
    "\n",
    "np.concatenate((b.T,a), axis=0)             # --> Concatenate two arrays by axis"
   ]
  }
 ],
 "metadata": {
  "kernelspec": {
   "display_name": "Python 3",
   "language": "python",
   "name": "python3"
  },
  "language_info": {
   "codemirror_mode": {
    "name": "ipython",
    "version": 3
   },
   "file_extension": ".py",
   "mimetype": "text/x-python",
   "name": "python",
   "nbconvert_exporter": "python",
   "pygments_lexer": "ipython3",
   "version": "3.10.12"
  }
 },
 "nbformat": 4,
 "nbformat_minor": 2
}
