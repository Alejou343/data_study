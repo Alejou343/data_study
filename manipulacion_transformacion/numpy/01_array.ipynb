{
 "cells": [
  {
   "cell_type": "code",
   "execution_count": 2,
   "metadata": {},
   "outputs": [],
   "source": [
    "import numpy as np"
   ]
  },
  {
   "cell_type": "code",
   "execution_count": 3,
   "metadata": {},
   "outputs": [],
   "source": [
    "# To create a list with python syntax\n",
    "# Transform the list to array using numpy\n",
    "lista = [1,2,3,4,5,6,7,8,9]\n",
    "arr = np.array(lista)"
   ]
  },
  {
   "cell_type": "code",
   "execution_count": 4,
   "metadata": {},
   "outputs": [],
   "source": [
    "lista_bidimensional = [[1,2,3], [4,5,6], [7,8,9]]\n",
    "matriz = np.array(lista_bidimensional)"
   ]
  },
  {
   "cell_type": "code",
   "execution_count": 5,
   "metadata": {},
   "outputs": [
    {
     "data": {
      "text/plain": [
       "array([1, 2, 3, 4])"
      ]
     },
     "execution_count": 5,
     "metadata": {},
     "output_type": "execute_result"
    }
   ],
   "source": [
    "# Indexing to determinate the last item of an array\n",
    "arr[-1]\n",
    "\n",
    "# Slicing to extract a slice of the original array\n",
    "arr[0:4]                # --> [1,2,3,4]"
   ]
  },
  {
   "cell_type": "code",
   "execution_count": 7,
   "metadata": {},
   "outputs": [
    {
     "data": {
      "text/plain": [
       "array([9])"
      ]
     },
     "execution_count": 7,
     "metadata": {},
     "output_type": "execute_result"
    }
   ],
   "source": [
    "# Slicing to extract a slice of the original matriz\n",
    "matriz[0:2]             # --> [[1,2,3], [4,5,6]] \n",
    "\n",
    "# Indexing to determinate a value in the matriz\n",
    "matriz[0, 2]            # --> 3         \n",
    "\n",
    "# Slicing to extract the las value in the matriz\n",
    "matriz[-1:,-1]          # --> [9]   "
   ]
  }
 ],
 "metadata": {
  "kernelspec": {
   "display_name": "Python 3",
   "language": "python",
   "name": "python3"
  },
  "language_info": {
   "codemirror_mode": {
    "name": "ipython",
    "version": 3
   },
   "file_extension": ".py",
   "mimetype": "text/x-python",
   "name": "python",
   "nbconvert_exporter": "python",
   "pygments_lexer": "ipython3",
   "version": "3.10.12"
  }
 },
 "nbformat": 4,
 "nbformat_minor": 2
}
