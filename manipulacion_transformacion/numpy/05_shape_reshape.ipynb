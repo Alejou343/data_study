{
 "cells": [
  {
   "cell_type": "code",
   "execution_count": 1,
   "metadata": {},
   "outputs": [],
   "source": [
    "import numpy as np"
   ]
  },
  {
   "cell_type": "code",
   "execution_count": 2,
   "metadata": {},
   "outputs": [
    {
     "data": {
      "text/plain": [
       "array([[1, 5],\n",
       "       [3, 3],\n",
       "       [4, 3]])"
      ]
     },
     "execution_count": 2,
     "metadata": {},
     "output_type": "execute_result"
    }
   ],
   "source": [
    "arr = np.random.randint(1,10, (3,2))\n",
    "arr"
   ]
  },
  {
   "cell_type": "code",
   "execution_count": 3,
   "metadata": {},
   "outputs": [
    {
     "data": {
      "text/plain": [
       "(3, 2)"
      ]
     },
     "execution_count": 3,
     "metadata": {},
     "output_type": "execute_result"
    }
   ],
   "source": [
    "# This function shows the dimensions of the array\n",
    "arr.shape"
   ]
  },
  {
   "cell_type": "code",
   "execution_count": 4,
   "metadata": {},
   "outputs": [
    {
     "data": {
      "text/plain": [
       "array([[1, 5, 3],\n",
       "       [3, 4, 3]])"
      ]
     },
     "execution_count": 4,
     "metadata": {},
     "output_type": "execute_result"
    }
   ],
   "source": [
    "# This function change the dimension of the original array --> The product of values could be the same that original array\n",
    "arr.reshape(2,3)"
   ]
  },
  {
   "cell_type": "code",
   "execution_count": 5,
   "metadata": {},
   "outputs": [
    {
     "data": {
      "text/plain": [
       "array([[1, 5, 3, 3, 4, 3]])"
      ]
     },
     "execution_count": 5,
     "metadata": {},
     "output_type": "execute_result"
    }
   ],
   "source": [
    "# Another possible form of the original array\n",
    "np.reshape(arr, (1,6))"
   ]
  },
  {
   "cell_type": "code",
   "execution_count": 6,
   "metadata": {},
   "outputs": [
    {
     "data": {
      "text/plain": [
       "array([[1, 5, 3],\n",
       "       [3, 4, 3]])"
      ]
     },
     "execution_count": 6,
     "metadata": {},
     "output_type": "execute_result"
    }
   ],
   "source": [
    "np.reshape(arr, (2,3), 'C')     # --> Como lo hace el lenguaje C"
   ]
  },
  {
   "cell_type": "code",
   "execution_count": 11,
   "metadata": {},
   "outputs": [
    {
     "data": {
      "text/plain": [
       "array([[1, 4, 3],\n",
       "       [3, 5, 3]])"
      ]
     },
     "execution_count": 11,
     "metadata": {},
     "output_type": "execute_result"
    }
   ],
   "source": [
    "np.reshape(arr, (2,3), 'F')     # --> Como lo hace el lenguaje Fortran"
   ]
  },
  {
   "cell_type": "code",
   "execution_count": 8,
   "metadata": {},
   "outputs": [
    {
     "data": {
      "text/plain": [
       "array([[1, 5, 3],\n",
       "       [3, 4, 3]])"
      ]
     },
     "execution_count": 8,
     "metadata": {},
     "output_type": "execute_result"
    }
   ],
   "source": [
    "np.reshape(arr, (2,3), 'A')     # --> Como lo hace el lenguaje de mi sistema"
   ]
  },
  {
   "cell_type": "code",
   "execution_count": 9,
   "metadata": {},
   "outputs": [
    {
     "name": "stdout",
     "output_type": "stream",
     "text": [
      "(2, 3, 4)\n",
      "[[[0.44077956 0.90560289 0.20100955 0.01330526]\n",
      "  [0.08414863 0.93342315 0.79767961 0.15201221]\n",
      "  [0.86881881 0.40833287 0.65326335 0.52930533]]\n",
      "\n",
      " [[0.96753352 0.62964826 0.48616907 0.98695505]\n",
      "  [0.10192948 0.19112956 0.29723547 0.89275053]\n",
      "  [0.79132474 0.94597236 0.2161001  0.54892515]]]\n",
      "(6, 2, 2)\n",
      "[[[0.44077956 0.20100955]\n",
      "  [0.90560289 0.01330526]]\n",
      "\n",
      " [[0.96753352 0.48616907]\n",
      "  [0.62964826 0.98695505]]\n",
      "\n",
      " [[0.08414863 0.79767961]\n",
      "  [0.93342315 0.15201221]]\n",
      "\n",
      " [[0.10192948 0.29723547]\n",
      "  [0.19112956 0.89275053]]\n",
      "\n",
      " [[0.86881881 0.65326335]\n",
      "  [0.40833287 0.52930533]]\n",
      "\n",
      " [[0.79132474 0.2161001 ]\n",
      "  [0.94597236 0.54892515]]]\n"
     ]
    }
   ],
   "source": [
    "# Challenge --> Modify shape of a tensor with 24 values \n",
    "\n",
    "tensor = np.random.rand(2,3,4)\n",
    "print(tensor.shape)\n",
    "print(tensor)\n",
    "\n",
    "tensor_2 = np.reshape(tensor, (6,2,2), 'F')\n",
    "print(tensor_2.shape)\n",
    "print(tensor_2)"
   ]
  }
 ],
 "metadata": {
  "kernelspec": {
   "display_name": "Python 3",
   "language": "python",
   "name": "python3"
  },
  "language_info": {
   "codemirror_mode": {
    "name": "ipython",
    "version": 3
   },
   "file_extension": ".py",
   "mimetype": "text/x-python",
   "name": "python",
   "nbconvert_exporter": "python",
   "pygments_lexer": "ipython3",
   "version": "3.10.12"
  }
 },
 "nbformat": 4,
 "nbformat_minor": 2
}
