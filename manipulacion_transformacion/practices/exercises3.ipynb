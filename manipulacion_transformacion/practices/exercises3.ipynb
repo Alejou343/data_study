{
 "cells": [
  {
   "cell_type": "code",
   "execution_count": 1,
   "metadata": {},
   "outputs": [],
   "source": [
    "import numpy as np"
   ]
  },
  {
   "cell_type": "code",
   "execution_count": 8,
   "metadata": {},
   "outputs": [
    {
     "data": {
      "text/plain": [
       "array([[1, 2, 3],\n",
       "       [4, 5, 6],\n",
       "       [7, 8, 9]])"
      ]
     },
     "execution_count": 8,
     "metadata": {},
     "output_type": "execute_result"
    }
   ],
   "source": [
    "mat = [[1,2,3], [4,5,6], [7,8,9]]\n",
    "matriz = np.array(mat)\n",
    "matriz"
   ]
  },
  {
   "cell_type": "code",
   "execution_count": 14,
   "metadata": {},
   "outputs": [
    {
     "name": "stdout",
     "output_type": "stream",
     "text": [
      "1\n",
      "[7 8 9]\n",
      "[3 6 9]\n",
      "[4 5 6]\n",
      "[3 6 9]\n",
      "[1 5 9]\n",
      "[7 5 3]\n",
      "[6 7 8 9]\n",
      "[1 2 3]\n",
      "[3 4 5]\n"
     ]
    }
   ],
   "source": [
    "print(matriz[0,0])                              # Primer elemento de la matriz\n",
    "print(matriz[-1, :])                            # Ultima fila de la matriz  \n",
    "print(matriz[:, -1])                            # Ultima columna de la matriz\n",
    "print(matriz[1, :])                             # Toda la fila 2\n",
    "print(matriz[:, 2])                             # Toda la columna 3\n",
    "print(matriz.diagonal())                        # Toda la diagonal principal \n",
    "print(matriz[::-1].diagonal())                  # Toda la diagonal secundaria\n",
    "print(matriz[matriz > 5])                       # Todos los valores mayores a 5 de la matriz\n",
    "print(matriz[matriz <= 3])                      # Todos los valores menores o iguales a 3 de la matriz\n",
    "print(matriz[(matriz < 6) & (matriz > 2)])      # Todos los valores entre 2 y 6 de la matriz"
   ]
  }
 ],
 "metadata": {
  "kernelspec": {
   "display_name": "Python 3",
   "language": "python",
   "name": "python3"
  },
  "language_info": {
   "codemirror_mode": {
    "name": "ipython",
    "version": 3
   },
   "file_extension": ".py",
   "mimetype": "text/x-python",
   "name": "python",
   "nbconvert_exporter": "python",
   "pygments_lexer": "ipython3",
   "version": "3.10.12"
  }
 },
 "nbformat": 4,
 "nbformat_minor": 2
}
