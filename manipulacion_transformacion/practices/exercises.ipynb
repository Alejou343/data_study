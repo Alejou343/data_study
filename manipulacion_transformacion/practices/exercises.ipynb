{
 "cells": [
  {
   "cell_type": "code",
   "execution_count": 1,
   "metadata": {},
   "outputs": [],
   "source": [
    "import numpy as np"
   ]
  },
  {
   "cell_type": "code",
   "execution_count": null,
   "metadata": {},
   "outputs": [],
   "source": [
    "matriz = np.array([[1, 2, 3, 4], [5, 6, 7, 8], [9, 10, 11, 12], [13, 14, 15, 16]])\n",
    "matriz\n",
    "\n",
    "resultado1 = matriz[1, :]\n",
    "resultado2 = matriz[:, 2]\n",
    "resultado3 = matriz[1:3, 1:3]\n",
    "resultado4 = matriz[::2, ::2]\n",
    "resultado5 = matriz[:, ::-1]\n",
    "resultado6 = matriz[-1, :]\n",
    "resultado7 = matriz.diagonal()\n",
    "resultado8 = matriz[matriz > 8]\n",
    "resultado9 = matriz[:2, :2]\n",
    "\n",
    "print(\"Resultado 1:\", resultado1)\n",
    "print(\"Resultado 2:\", resultado2)\n",
    "print(\"Resultado 3:\", resultado3)\n",
    "print(\"Resultado 4:\", resultado4)\n",
    "print(\"Resultado 5:\", resultado5)\n",
    "print(\"Resultado 6:\", resultado6)\n",
    "print(\"Resultado 7:\", resultado7)\n",
    "print(\"Resultado 8:\", resultado8)\n",
    "print(\"Resultado 9:\", resultado9)"
   ]
  }
 ],
 "metadata": {
  "kernelspec": {
   "display_name": "Python 3",
   "language": "python",
   "name": "python3"
  },
  "language_info": {
   "codemirror_mode": {
    "name": "ipython",
    "version": 3
   },
   "file_extension": ".py",
   "mimetype": "text/x-python",
   "name": "python",
   "nbconvert_exporter": "python",
   "pygments_lexer": "ipython3",
   "version": "3.10.12"
  }
 },
 "nbformat": 4,
 "nbformat_minor": 2
}
