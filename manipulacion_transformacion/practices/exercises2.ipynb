{
 "cells": [
  {
   "cell_type": "code",
   "execution_count": 17,
   "metadata": {},
   "outputs": [
    {
     "name": "stdout",
     "output_type": "stream",
     "text": [
      "Resultado 1: [21 25 29 33]\n",
      "Resultado 2: [[22 24]\n",
      " [30 32]]\n",
      "Resultado 3:\n",
      " [[33 34 35 36]\n",
      " [29 30 31 32]\n",
      " [25 26 27 28]\n",
      " [21 22 23 24]]\n",
      "Resultado 4: [21 22 23 24 25 26 27 28 29 30]\n",
      "Resultado 5:\n",
      " [[31 32]\n",
      " [35 36]]\n",
      "Resultado 7: [24 27 30 33]\n",
      "Resultado 8: [24 28 32 36]\n",
      "Resultado 9:\n",
      " [[21 22 23 24]\n",
      " [29 30 31 32]]\n",
      "Resultado 10: [21 23 25 27 29 31 33 35]\n"
     ]
    }
   ],
   "source": [
    "import numpy as np\n",
    "\n",
    "otra_matriz = np.array([[21, 22, 23, 24], [25, 26, 27, 28], [29, 30, 31, 32], [33, 34, 35, 36]])\n",
    "\n",
    "resultado1 = otra_matriz[:, 0]                      # Toda la fila 0\n",
    "resultado2 = otra_matriz[::2, [1, 3]]               # Todas las columnas pares de indices 1 y 3\n",
    "resultado3 = otra_matriz[::-1, :]                   # Invierte por columnas y trae todas las filas\n",
    "resultado4 = otra_matriz[otra_matriz <= 30]         # Trae todos los valores menores o iguales a 30\n",
    "resultado5 = otra_matriz[2:, 2:]                    # Trae la submatriz que inicia en la columna 2 y fila 2 hasta el final\n",
    "# otra_matriz[otra_matriz > 25] = -1                # Devuelve la misma matriz pero en los valores mayores a 25 escribe -1\n",
    "# resultado6 = otra_matriz                          \n",
    "resultado7 = np.fliplr(otra_matriz).diagonal()      # Devuelve la diagonal segundaria ordenada de manera ascendente\n",
    "resultado8 = otra_matriz[:, -1]                     # Devuelve la última fila completa\n",
    "resultado9 = otra_matriz[1::2, :]                   # Devuelve las columnas impares completas\n",
    "resultado10 = otra_matriz[otra_matriz % 2 != 0]     # Devuelve los valores impares de la matriz\n",
    "\n",
    "print(\"Resultado 1:\", resultado1)\n",
    "print(\"Resultado 2:\", resultado2)\n",
    "print(\"Resultado 3:\\n\", resultado3)\n",
    "print(\"Resultado 4:\", resultado4)\n",
    "print(\"Resultado 5:\\n\", resultado5)\n",
    "# print(\"Resultado 6:\\n\", resultado6)\n",
    "print(\"Resultado 7:\", resultado7)\n",
    "print(\"Resultado 8:\", resultado8)\n",
    "print(\"Resultado 9:\\n\", resultado9)\n",
    "print(\"Resultado 10:\", resultado10)"
   ]
  }
 ],
 "metadata": {
  "kernelspec": {
   "display_name": "Python 3",
   "language": "python",
   "name": "python3"
  },
  "language_info": {
   "codemirror_mode": {
    "name": "ipython",
    "version": 3
   },
   "file_extension": ".py",
   "mimetype": "text/x-python",
   "name": "python",
   "nbconvert_exporter": "python",
   "pygments_lexer": "ipython3",
   "version": "3.12.1"
  }
 },
 "nbformat": 4,
 "nbformat_minor": 2
}
